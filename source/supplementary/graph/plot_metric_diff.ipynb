{
 "cells": [
  {
   "cell_type": "code",
   "execution_count": 1,
   "metadata": {},
   "outputs": [
    {
     "name": "stderr",
     "output_type": "stream",
     "text": [
      "/home/yunchan/anaconda3/envs/tf2.3/lib/python3.6/site-packages/torch/cuda/__init__.py:52: UserWarning: CUDA initialization: Found no NVIDIA driver on your system. Please check that you have an NVIDIA GPU and installed a driver from http://www.nvidia.com/Download/index.aspx (Triggered internally at  /pytorch/c10/cuda/CUDAFunctions.cpp:100.)\n",
      "  return torch._C._cuda_getDeviceCount() > 0\n"
     ]
    }
   ],
   "source": [
    "import os\n",
    "import numpy as np\n",
    "import pprint\n",
    "from fastestimator.summary.logs import parse_log_file\n",
    "import matplotlib.pyplot as plt"
   ]
  },
  {
   "cell_type": "code",
   "execution_count": 16,
   "metadata": {},
   "outputs": [],
   "source": [
    "def plot_metric_diff(ylim=None):\n",
    "    acc = {}\n",
    "    for init_lr in [\"0.01\", \"0.001\", \"0.0001\"]:\n",
    "        acc[init_lr] = []\n",
    "        for exp in [\"take_accuracy\", \\\n",
    "                    \"take_mcc\", \\\n",
    "                    \"take_loss\", \\\n",
    "                    \"take_calibration_error\", \\\n",
    "                    \"take_wacc\"]:\n",
    "            stat = []\n",
    "            for model_run in range(1,6):\n",
    "                for run in range(7):\n",
    "                    summary = parse_log_file(f\"../../../logs/supplementary/metric_study/{exp}/run_{model_run}/image_classification/{init_lr}_{run}.txt\", \".txt\")\n",
    "                    max_acc = np.max([x for x in summary.history[\"eval\"][\"accuracy\"].values()])\n",
    "                    stat.append(max_acc)\n",
    "            acc[init_lr].append(stat)\n",
    "        \n",
    "        # final ARC model (ARC 4)\n",
    "        if init_lr == \"1.0\":\n",
    "            init_lr_fix = \"1\"\n",
    "        else:\n",
    "            init_lr_fix = init_lr.replace(\".\", \"\")\n",
    "\n",
    "        stat = []\n",
    "        for run in range(5):\n",
    "            summary = parse_log_file(f\"../../../logs/normal_comparison/image_classification/{init_lr_fix}_lr-controller-weighted-acc_{run}.txt\", \".txt\")\n",
    "            max_acc = np.max([x for x in summary.history[\"eval\"][\"accuracy\"].values()])\n",
    "            stat.append(max_acc)\n",
    "        acc[init_lr].append(stat)\n",
    "            \n",
    "#     if not ylim:\n",
    "#         max_list, min_list = [], []\n",
    "#         for _, val in acc.items():\n",
    "#             max_list.append(np.max(val))\n",
    "#             min_list.append(np.min(val))\n",
    "\n",
    "#         max_val = max(max_list)\n",
    "#         min_val = min(min_list)\n",
    "\n",
    "#         top_limit = (max_val + min_val)/2 + (max_val - min_val)/2*1.05\n",
    "#         bot_limit = (max_val + min_val)/2 - (max_val - min_val)/2*1.05\n",
    "#         ylim = [bot_limit, top_limit]\n",
    "        \n",
    "    fig, axs = plt.subplots(nrows=1, ncols=3, figsize=(15, 5))\n",
    "    for i, key in enumerate(acc.keys()):\n",
    "        \n",
    "        bplot1 = axs[i].boxplot(\n",
    "            acc[key],\n",
    "            vert=True,  # vertical box aligmnent\n",
    "            patch_artist=True)  # fill with color\n",
    "\n",
    "        # set ax title\n",
    "        axs[i].set_title(f\"init_lr = {key}\")\n",
    "        axs[i].set_ylim(ylim)\n",
    "\n",
    "        # adding horizontal grid lines\n",
    "        axs[i].yaxis.grid(True)\n",
    "        axs[i].set_xticks([y+1 for y in range(6)])\n",
    "        axs[i].set_xticklabels([\"accuracy\", \"mcc\", \"loss\", \"cali\", \"wacc\", \"proxy\"])\n",
    "    plt.savefig(\"../../../results/supplementary/metric_study.jpeg\", dpi=300, transparent=True)"
   ]
  },
  {
   "cell_type": "code",
   "execution_count": 17,
   "metadata": {},
   "outputs": [
    {
     "data": {
      "image/png": "[encoded data removed]",
      "text/plain": [
       "<Figure size 1080x360 with 3 Axes>"
      ]
     },
     "metadata": {
      "needs_background": "light"
     },
     "output_type": "display_data"
    }
   ],
   "source": [
    "plot_metric_diff()"
   ]
  },
  {
   "cell_type": "code",
   "execution_count": null,
   "metadata": {},
   "outputs": [],
   "source": []
  }
 ],
 "metadata": {
  "kernelspec": {
   "display_name": "tf2.3",
   "language": "python",
   "name": "tf2.3"
  },
  "language_info": {
   "codemirror_mode": {
    "name": "ipython",
    "version": 3
   },
   "file_extension": ".py",
   "mimetype": "text/x-python",
   "name": "python",
   "nbconvert_exporter": "python",
   "pygments_lexer": "ipython3",
   "version": "3.6.12"
  }
 },
 "nbformat": 4,
 "nbformat_minor": 4
}
