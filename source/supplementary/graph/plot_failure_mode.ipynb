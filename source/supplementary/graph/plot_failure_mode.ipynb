{
 "cells": [
  {
   "cell_type": "code",
   "execution_count": 1,
   "id": "logical-sydney",
   "metadata": {},
   "outputs": [
    {
     "name": "stderr",
     "output_type": "stream",
     "text": [
      "/home/yunchan/anaconda3/envs/tf2.3/lib/python3.6/site-packages/torch/cuda/__init__.py:52: UserWarning: CUDA initialization: Found no NVIDIA driver on your system. Please check that you have an NVIDIA GPU and installed a driver from http://www.nvidia.com/Download/index.aspx (Triggered internally at  /pytorch/c10/cuda/CUDAFunctions.cpp:100.)\n",
      "  return torch._C._cuda_getDeviceCount() > 0\n"
     ]
    }
   ],
   "source": [
    "import os\n",
    "import numpy as np\n",
    "import pprint\n",
    "from fastestimator.summary.logs import parse_log_file\n",
    "import matplotlib.pyplot as plt"
   ]
  },
  {
   "cell_type": "markdown",
   "id": "responsible-ridge",
   "metadata": {},
   "source": [
    "# Plot the box plot of failure mode"
   ]
  },
  {
   "cell_type": "code",
   "execution_count": 5,
   "id": "finnish-temple",
   "metadata": {},
   "outputs": [],
   "source": [
    "def plot_failure_mode(ylim=None): \n",
    "    task = \"instance_detection\"\n",
    "    init_lr = \"0.01\"\n",
    "    metric = \"mAP\"\n",
    "    func = np.max\n",
    "        \n",
    "    result = {}\n",
    "    result[init_lr] = []\n",
    "    if init_lr == \"1.0\":\n",
    "        init_lr_fix = \"1\"\n",
    "    else:\n",
    "        init_lr_fix = init_lr.replace(\".\", \"\")\n",
    "\n",
    "    # normal \n",
    "    for scheduler in [\"base-lr\",\n",
    "                      \"cosine-decay\",\n",
    "                      \"cyclic-cosine-decay\",\n",
    "                      \"exponential-decay\",\n",
    "                      \"lr-controller-weighted-acc\"]:\n",
    "        stat = []\n",
    "        for run in range(5):\n",
    "            summary = parse_log_file(f\"../../../logs/normal_comparison/{task}/{init_lr_fix}_{scheduler}_{run}.txt\", \".txt\")\n",
    "            best = func([x for x in summary.history[\"eval\"][metric].values()])\n",
    "            stat.append(best)\n",
    "        result[init_lr].append(stat)\n",
    "            \n",
    "    fig, axs = plt.subplots(nrows=1, ncols=1, figsize=(5, 5))\n",
    "    bplot1 = axs.boxplot(\n",
    "        result[init_lr],\n",
    "        vert=True,  # vertical box aligmnent\n",
    "        patch_artist=True)  # fill with color\n",
    "\n",
    "    # adding horizontal grid lines\n",
    "    axs.yaxis.grid(True)\n",
    "    axs.set_xticks([y+1 for y in range(5)])\n",
    "    axs.set_xticklabels([\"BLR\", \"CD\", \"CCD\", \"ED\", \"ARC\"])\n",
    "    plt.savefig(\"../../../results/supplementary/failure_mode_ID_lr001.jpeg\", dpi=300, transparent=True)"
   ]
  },
  {
   "cell_type": "code",
   "execution_count": 6,
   "id": "removed-shepherd",
   "metadata": {},
   "outputs": [
    {
     "data": {
      "image/png": "[encoded data removed]",
      "text/plain": [
       "<Figure size 360x360 with 1 Axes>"
      ]
     },
     "metadata": {
      "needs_background": "light"
     },
     "output_type": "display_data"
    }
   ],
   "source": [
    "plot_failure_mode()"
   ]
  },
  {
   "cell_type": "code",
   "execution_count": null,
   "id": "trying-gather",
   "metadata": {},
   "outputs": [],
   "source": []
  }
 ],
 "metadata": {
  "kernelspec": {
   "display_name": "tf2.3",
   "language": "python",
   "name": "tf2.3"
  },
  "language_info": {
   "codemirror_mode": {
    "name": "ipython",
    "version": 3
   },
   "file_extension": ".py",
   "mimetype": "text/x-python",
   "name": "python",
   "nbconvert_exporter": "python",
   "pygments_lexer": "ipython3",
   "version": "3.6.12"
  }
 },
 "nbformat": 4,
 "nbformat_minor": 5
}
