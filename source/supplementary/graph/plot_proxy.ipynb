{
 "cells": [
  {
   "cell_type": "code",
   "execution_count": 1,
   "id": "seeing-editing",
   "metadata": {},
   "outputs": [
    {
     "name": "stderr",
     "output_type": "stream",
     "text": [
      "/home/yunchan/anaconda3/envs/tf2.3/lib/python3.6/site-packages/torch/cuda/__init__.py:52: UserWarning: CUDA initialization: Found no NVIDIA driver on your system. Please check that you have an NVIDIA GPU and installed a driver from http://www.nvidia.com/Download/index.aspx (Triggered internally at  /pytorch/c10/cuda/CUDAFunctions.cpp:100.)\n",
      "  return torch._C._cuda_getDeviceCount() > 0\n"
     ]
    }
   ],
   "source": [
    "import os\n",
    "import numpy as np\n",
    "import pprint\n",
    "from fastestimator.summary.logs import parse_log_file\n",
    "import matplotlib.pyplot as plt"
   ]
  },
  {
   "cell_type": "code",
   "execution_count": 8,
   "id": "requested-violin",
   "metadata": {},
   "outputs": [],
   "source": [
    "def plot_box_within_exp(ylim=None):\n",
    "    acc = {}\n",
    "    model_pool = [2,3,4,5,6,8,9,10]  # take out 1, 7 because they diverge too much\n",
    "    for init_lr in [\"0.1\", \"0.001\", \"0.00001\"]:\n",
    "        acc[init_lr] = []\n",
    "        \n",
    "        for model_run in model_pool:\n",
    "            stat = []\n",
    "            for run in range(5):\n",
    "                summary = parse_log_file(f\"../../../logs/supplementary/proxy_test/selection/run_{model_run}/{init_lr}_{run}.txt\", \".txt\")\n",
    "                max_acc = np.max([x for x in summary.history[\"eval\"][\"accuracy\"].values()])\n",
    "                stat.append(max_acc)\n",
    "            acc[init_lr].append(stat)\n",
    "        \n",
    "    fig, axs = plt.subplots(nrows=1, ncols=3, figsize=(15, 5))\n",
    "    for i, key in enumerate(acc.keys()):\n",
    "        \n",
    "        bplot1 = axs[i].boxplot(\n",
    "            acc[key],\n",
    "            vert=True,  # vertical box aligmnent\n",
    "            patch_artist=True)  # fill with color\n",
    "\n",
    "        # set ax title\n",
    "        axs[i].set_title(f\"init_lr = {key}\")\n",
    "        axs[i].set_ylim(ylim)\n",
    "\n",
    "        # adding horizontal grid lines\n",
    "        axs[i].yaxis.grid(True)\n",
    "        axs[i].set_xticks([y+1 for y in range(len(model_pool))])\n",
    "        axs[i].set_xticklabels(model_pool)\n",
    "    plt.savefig(\"../../../results/supplementary/model_selection.jpeg\", dpi=300, transparent=True)"
   ]
  },
  {
   "cell_type": "code",
   "execution_count": 9,
   "id": "modern-chapter",
   "metadata": {},
   "outputs": [
    {
     "data": {
      "image/png": "[encoded data removed]",
      "text/plain": [
       "<Figure size 1080x360 with 3 Axes>"
      ]
     },
     "metadata": {
      "needs_background": "light"
     },
     "output_type": "display_data"
    }
   ],
   "source": [
    "plot_box_within_exp()"
   ]
  },
  {
   "cell_type": "code",
   "execution_count": 6,
   "id": "requested-china",
   "metadata": {},
   "outputs": [],
   "source": [
    "def get_total(ylim=None):\n",
    "    acc = {}\n",
    "    for init_lr in [\"0.1\", \"0.001\", \"0.00001\"]:\n",
    "        acc[init_lr] = []\n",
    "        \n",
    "        for model_run in range(1, 11):\n",
    "            # svhn\n",
    "            stat = []\n",
    "            for run in range(5):\n",
    "                summary = parse_log_file(f\"../../../logs/supplementary/proxy_test/selection/run_{model_run}/{init_lr}_{run}.txt\", \".txt\")\n",
    "                max_acc = np.max([x for x in summary.history[\"eval\"][\"accuracy\"].values()])\n",
    "                stat.append(max_acc)\n",
    "            acc[init_lr].append(stat)\n",
    "    \n",
    "    total = [0] * 10\n",
    "    for i in range(10):\n",
    "        for init_lr in [\"0.1\", \"0.001\", \"0.00001\"]:\n",
    "            total[i] += sum(acc[init_lr][i])\n",
    "    \n",
    "    return total"
   ]
  },
  {
   "cell_type": "code",
   "execution_count": 7,
   "id": "permanent-superintendent",
   "metadata": {},
   "outputs": [
    {
     "data": {
      "text/plain": [
       "[12.465926551936079,\n",
       " 14.019668100799016,\n",
       " 13.28841425937308,\n",
       " 14.035456361401353,\n",
       " 13.114128764597417,\n",
       " 13.252343269821758,\n",
       " 11.860287338660111,\n",
       " 13.209741856177011,\n",
       " 13.937269514443763,\n",
       " 13.98924400737554]"
      ]
     },
     "execution_count": 7,
     "metadata": {},
     "output_type": "execute_result"
    }
   ],
   "source": [
    "get_total()"
   ]
  },
  {
   "cell_type": "code",
   "execution_count": null,
   "id": "incorporate-customer",
   "metadata": {},
   "outputs": [],
   "source": []
  }
 ],
 "metadata": {
  "kernelspec": {
   "display_name": "tf2.3",
   "language": "python",
   "name": "tf2.3"
  },
  "language_info": {
   "codemirror_mode": {
    "name": "ipython",
    "version": 3
   },
   "file_extension": ".py",
   "mimetype": "text/x-python",
   "name": "python",
   "nbconvert_exporter": "python",
   "pygments_lexer": "ipython3",
   "version": "3.6.12"
  }
 },
 "nbformat": 4,
 "nbformat_minor": 5
}
